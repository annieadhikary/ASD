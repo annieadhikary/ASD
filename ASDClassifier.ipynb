{
  "nbformat": 4,
  "nbformat_minor": 0,
  "metadata": {
    "colab": {
      "provenance": [],
      "authorship_tag": "ABX9TyO//u10gOGxGL6X5ibagEWa",
      "include_colab_link": true
    },
    "kernelspec": {
      "name": "python3",
      "display_name": "Python 3"
    },
    "language_info": {
      "name": "python"
    }
  },
  "cells": [
    {
      "cell_type": "markdown",
      "metadata": {
        "id": "view-in-github",
        "colab_type": "text"
      },
      "source": [
        "<a href=\"https://colab.research.google.com/github/annieadhikary/ASD/blob/main/ASDClassifier.ipynb\" target=\"_parent\"><img src=\"https://colab.research.google.com/assets/colab-badge.svg\" alt=\"Open In Colab\"/></a>"
      ]
    },
    {
      "cell_type": "code",
      "execution_count": 160,
      "metadata": {
        "colab": {
          "base_uri": "https://localhost:8080/",
          "height": 514
        },
        "id": "hSRRlyyWEkPq",
        "outputId": "c58e4420-2b1b-4a1f-ab76-a8316ce511c5"
      },
      "outputs": [
        {
          "output_type": "stream",
          "name": "stdout",
          "text": [
            "3.0\n",
            "5.0\n",
            "dict_items([('Unnamed: 0', <KerasTensor: shape=(None, 1) dtype=float32 (created by layer 'Unnamed: 0')>), ('Unnamed: 0.1', <KerasTensor: shape=(None, 1) dtype=float32 (created by layer 'Unnamed: 0.1')>), ('SUB_ID', <KerasTensor: shape=(None, 1) dtype=float32 (created by layer 'SUB_ID')>), ('X', <KerasTensor: shape=(None, 1) dtype=float32 (created by layer 'X')>), ('subject', <KerasTensor: shape=(None, 1) dtype=float32 (created by layer 'subject')>), ('SITE_ID', <KerasTensor: shape=(None, 1) dtype=string (created by layer 'SITE_ID')>), ('FILE_ID', <KerasTensor: shape=(None, 1) dtype=string (created by layer 'FILE_ID')>), ('DSM_IV_TR', <KerasTensor: shape=(None, 1) dtype=float32 (created by layer 'DSM_IV_TR')>), ('AGE_AT_SCAN', <KerasTensor: shape=(None, 1) dtype=float32 (created by layer 'AGE_AT_SCAN')>), ('SEX', <KerasTensor: shape=(None, 1) dtype=float32 (created by layer 'SEX')>), ('HANDEDNESS_CATEGORY', <KerasTensor: shape=(None, 1) dtype=string (created by layer 'HANDEDNESS_CATEGORY')>), ('HANDEDNESS_SCORES', <KerasTensor: shape=(None, 1) dtype=float32 (created by layer 'HANDEDNESS_SCORES')>), ('FIQ', <KerasTensor: shape=(None, 1) dtype=float32 (created by layer 'FIQ')>), ('VIQ', <KerasTensor: shape=(None, 1) dtype=float32 (created by layer 'VIQ')>), ('PIQ', <KerasTensor: shape=(None, 1) dtype=float32 (created by layer 'PIQ')>), ('FIQ_TEST_TYPE', <KerasTensor: shape=(None, 1) dtype=string (created by layer 'FIQ_TEST_TYPE')>), ('VIQ_TEST_TYPE', <KerasTensor: shape=(None, 1) dtype=string (created by layer 'VIQ_TEST_TYPE')>), ('PIQ_TEST_TYPE', <KerasTensor: shape=(None, 1) dtype=string (created by layer 'PIQ_TEST_TYPE')>), ('ADI_R_SOCIAL_TOTAL_A', <KerasTensor: shape=(None, 1) dtype=float32 (created by layer 'ADI_R_SOCIAL_TOTAL_A')>), ('ADI_R_VERBAL_TOTAL_BV', <KerasTensor: shape=(None, 1) dtype=float32 (created by layer 'ADI_R_VERBAL_TOTAL_BV')>), ('ADI_RRB_TOTAL_C', <KerasTensor: shape=(None, 1) dtype=float32 (created by layer 'ADI_RRB_TOTAL_C')>), ('ADI_R_ONSET_TOTAL_D', <KerasTensor: shape=(None, 1) dtype=float32 (created by layer 'ADI_R_ONSET_TOTAL_D')>), ('ADI_R_RSRCH_RELIABLE', <KerasTensor: shape=(None, 1) dtype=float32 (created by layer 'ADI_R_RSRCH_RELIABLE')>), ('ADOS_MODULE', <KerasTensor: shape=(None, 1) dtype=float32 (created by layer 'ADOS_MODULE')>), ('ADOS_TOTAL', <KerasTensor: shape=(None, 1) dtype=float32 (created by layer 'ADOS_TOTAL')>), ('ADOS_COMM', <KerasTensor: shape=(None, 1) dtype=float32 (created by layer 'ADOS_COMM')>), ('ADOS_SOCIAL', <KerasTensor: shape=(None, 1) dtype=float32 (created by layer 'ADOS_SOCIAL')>), ('ADOS_STEREO_BEHAV', <KerasTensor: shape=(None, 1) dtype=float32 (created by layer 'ADOS_STEREO_BEHAV')>), ('ADOS_RSRCH_RELIABLE', <KerasTensor: shape=(None, 1) dtype=float32 (created by layer 'ADOS_RSRCH_RELIABLE')>), ('ADOS_GOTHAM_SOCAFFECT', <KerasTensor: shape=(None, 1) dtype=float32 (created by layer 'ADOS_GOTHAM_SOCAFFECT')>), ('ADOS_GOTHAM_RRB', <KerasTensor: shape=(None, 1) dtype=float32 (created by layer 'ADOS_GOTHAM_RRB')>), ('ADOS_GOTHAM_TOTAL', <KerasTensor: shape=(None, 1) dtype=float32 (created by layer 'ADOS_GOTHAM_TOTAL')>), ('ADOS_GOTHAM_SEVERITY', <KerasTensor: shape=(None, 1) dtype=float32 (created by layer 'ADOS_GOTHAM_SEVERITY')>), ('SRS_VERSION', <KerasTensor: shape=(None, 1) dtype=float32 (created by layer 'SRS_VERSION')>), ('SRS_RAW_TOTAL', <KerasTensor: shape=(None, 1) dtype=float32 (created by layer 'SRS_RAW_TOTAL')>), ('SRS_AWARENESS', <KerasTensor: shape=(None, 1) dtype=float32 (created by layer 'SRS_AWARENESS')>), ('SRS_COGNITION', <KerasTensor: shape=(None, 1) dtype=float32 (created by layer 'SRS_COGNITION')>), ('SRS_COMMUNICATION', <KerasTensor: shape=(None, 1) dtype=float32 (created by layer 'SRS_COMMUNICATION')>), ('SRS_MOTIVATION', <KerasTensor: shape=(None, 1) dtype=float32 (created by layer 'SRS_MOTIVATION')>), ('SRS_MANNERISMS', <KerasTensor: shape=(None, 1) dtype=float32 (created by layer 'SRS_MANNERISMS')>), ('SCQ_TOTAL', <KerasTensor: shape=(None, 1) dtype=float32 (created by layer 'SCQ_TOTAL')>), ('AQ_TOTAL', <KerasTensor: shape=(None, 1) dtype=float32 (created by layer 'AQ_TOTAL')>), ('COMORBIDITY', <KerasTensor: shape=(None, 1) dtype=string (created by layer 'COMORBIDITY')>), ('CURRENT_MED_STATUS', <KerasTensor: shape=(None, 1) dtype=string (created by layer 'CURRENT_MED_STATUS')>), ('MEDICATION_NAME', <KerasTensor: shape=(None, 1) dtype=string (created by layer 'MEDICATION_NAME')>), ('OFF_STIMULANTS_AT_SCAN', <KerasTensor: shape=(None, 1) dtype=float32 (created by layer 'OFF_STIMULANTS_AT_SCAN')>), ('VINELAND_RECEPTIVE_V_SCALED', <KerasTensor: shape=(None, 1) dtype=float32 (created by layer 'VINELAND_RECEPTIVE_V_SCALED')>), ('VINELAND_EXPRESSIVE_V_SCALED', <KerasTensor: shape=(None, 1) dtype=float32 (created by layer 'VINELAND_EXPRESSIVE_V_SCALED')>), ('VINELAND_WRITTEN_V_SCALED', <KerasTensor: shape=(None, 1) dtype=float32 (created by layer 'VINELAND_WRITTEN_V_SCALED')>), ('VINELAND_COMMUNICATION_STANDARD', <KerasTensor: shape=(None, 1) dtype=float32 (created by layer 'VINELAND_COMMUNICATION_STANDARD')>), ('VINELAND_PERSONAL_V_SCALED', <KerasTensor: shape=(None, 1) dtype=float32 (created by layer 'VINELAND_PERSONAL_V_SCALED')>), ('VINELAND_DOMESTIC_V_SCALED', <KerasTensor: shape=(None, 1) dtype=float32 (created by layer 'VINELAND_DOMESTIC_V_SCALED')>), ('VINELAND_COMMUNITY_V_SCALED', <KerasTensor: shape=(None, 1) dtype=float32 (created by layer 'VINELAND_COMMUNITY_V_SCALED')>), ('VINELAND_DAILYLVNG_STANDARD', <KerasTensor: shape=(None, 1) dtype=float32 (created by layer 'VINELAND_DAILYLVNG_STANDARD')>), ('VINELAND_INTERPERSONAL_V_SCALED', <KerasTensor: shape=(None, 1) dtype=float32 (created by layer 'VINELAND_INTERPERSONAL_V_SCALED')>), ('VINELAND_PLAY_V_SCALED', <KerasTensor: shape=(None, 1) dtype=float32 (created by layer 'VINELAND_PLAY_V_SCALED')>), ('VINELAND_COPING_V_SCALED', <KerasTensor: shape=(None, 1) dtype=float32 (created by layer 'VINELAND_COPING_V_SCALED')>), ('VINELAND_SOCIAL_STANDARD', <KerasTensor: shape=(None, 1) dtype=float32 (created by layer 'VINELAND_SOCIAL_STANDARD')>), ('VINELAND_SUM_SCORES', <KerasTensor: shape=(None, 1) dtype=float32 (created by layer 'VINELAND_SUM_SCORES')>), ('VINELAND_ABC_STANDARD', <KerasTensor: shape=(None, 1) dtype=float32 (created by layer 'VINELAND_ABC_STANDARD')>), ('VINELAND_INFORMANT', <KerasTensor: shape=(None, 1) dtype=float32 (created by layer 'VINELAND_INFORMANT')>), ('WISC_IV_VCI', <KerasTensor: shape=(None, 1) dtype=float32 (created by layer 'WISC_IV_VCI')>), ('WISC_IV_PRI', <KerasTensor: shape=(None, 1) dtype=float32 (created by layer 'WISC_IV_PRI')>), ('WISC_IV_WMI', <KerasTensor: shape=(None, 1) dtype=float32 (created by layer 'WISC_IV_WMI')>), ('WISC_IV_PSI', <KerasTensor: shape=(None, 1) dtype=float32 (created by layer 'WISC_IV_PSI')>), ('WISC_IV_SIM_SCALED', <KerasTensor: shape=(None, 1) dtype=float32 (created by layer 'WISC_IV_SIM_SCALED')>), ('WISC_IV_VOCAB_SCALED', <KerasTensor: shape=(None, 1) dtype=float32 (created by layer 'WISC_IV_VOCAB_SCALED')>), ('WISC_IV_INFO_SCALED', <KerasTensor: shape=(None, 1) dtype=float32 (created by layer 'WISC_IV_INFO_SCALED')>), ('WISC_IV_BLK_DSN_SCALED', <KerasTensor: shape=(None, 1) dtype=float32 (created by layer 'WISC_IV_BLK_DSN_SCALED')>), ('WISC_IV_PIC_CON_SCALED', <KerasTensor: shape=(None, 1) dtype=float32 (created by layer 'WISC_IV_PIC_CON_SCALED')>), ('WISC_IV_MATRIX_SCALED', <KerasTensor: shape=(None, 1) dtype=float32 (created by layer 'WISC_IV_MATRIX_SCALED')>), ('WISC_IV_DIGIT_SPAN_SCALED', <KerasTensor: shape=(None, 1) dtype=float32 (created by layer 'WISC_IV_DIGIT_SPAN_SCALED')>), ('WISC_IV_LET_NUM_SCALED', <KerasTensor: shape=(None, 1) dtype=float32 (created by layer 'WISC_IV_LET_NUM_SCALED')>), ('WISC_IV_CODING_SCALED', <KerasTensor: shape=(None, 1) dtype=float32 (created by layer 'WISC_IV_CODING_SCALED')>), ('WISC_IV_SYM_SCALED', <KerasTensor: shape=(None, 1) dtype=float32 (created by layer 'WISC_IV_SYM_SCALED')>), ('EYE_STATUS_AT_SCAN', <KerasTensor: shape=(None, 1) dtype=float32 (created by layer 'EYE_STATUS_AT_SCAN')>), ('AGE_AT_MPRAGE', <KerasTensor: shape=(None, 1) dtype=float32 (created by layer 'AGE_AT_MPRAGE')>), ('BMI', <KerasTensor: shape=(None, 1) dtype=float32 (created by layer 'BMI')>), ('anat_cnr', <KerasTensor: shape=(None, 1) dtype=float32 (created by layer 'anat_cnr')>), ('anat_efc', <KerasTensor: shape=(None, 1) dtype=float32 (created by layer 'anat_efc')>), ('anat_fber', <KerasTensor: shape=(None, 1) dtype=float32 (created by layer 'anat_fber')>), ('anat_fwhm', <KerasTensor: shape=(None, 1) dtype=float32 (created by layer 'anat_fwhm')>), ('anat_qi1', <KerasTensor: shape=(None, 1) dtype=float32 (created by layer 'anat_qi1')>), ('anat_snr', <KerasTensor: shape=(None, 1) dtype=float32 (created by layer 'anat_snr')>), ('func_efc', <KerasTensor: shape=(None, 1) dtype=float32 (created by layer 'func_efc')>), ('func_fber', <KerasTensor: shape=(None, 1) dtype=float32 (created by layer 'func_fber')>), ('func_fwhm', <KerasTensor: shape=(None, 1) dtype=float32 (created by layer 'func_fwhm')>), ('func_dvars', <KerasTensor: shape=(None, 1) dtype=float32 (created by layer 'func_dvars')>), ('func_outlier', <KerasTensor: shape=(None, 1) dtype=float32 (created by layer 'func_outlier')>), ('func_quality', <KerasTensor: shape=(None, 1) dtype=float32 (created by layer 'func_quality')>), ('func_mean_fd', <KerasTensor: shape=(None, 1) dtype=float32 (created by layer 'func_mean_fd')>), ('func_num_fd', <KerasTensor: shape=(None, 1) dtype=float32 (created by layer 'func_num_fd')>), ('func_perc_fd', <KerasTensor: shape=(None, 1) dtype=float32 (created by layer 'func_perc_fd')>), ('func_gsr', <KerasTensor: shape=(None, 1) dtype=float32 (created by layer 'func_gsr')>), ('qc_rater_1', <KerasTensor: shape=(None, 1) dtype=string (created by layer 'qc_rater_1')>), ('qc_notes_rater_1', <KerasTensor: shape=(None, 1) dtype=string (created by layer 'qc_notes_rater_1')>), ('qc_anat_rater_2', <KerasTensor: shape=(None, 1) dtype=string (created by layer 'qc_anat_rater_2')>), ('qc_anat_notes_rater_2', <KerasTensor: shape=(None, 1) dtype=string (created by layer 'qc_anat_notes_rater_2')>), ('qc_func_rater_2', <KerasTensor: shape=(None, 1) dtype=string (created by layer 'qc_func_rater_2')>), ('qc_func_notes_rater_2', <KerasTensor: shape=(None, 1) dtype=string (created by layer 'qc_func_notes_rater_2')>), ('qc_anat_rater_3', <KerasTensor: shape=(None, 1) dtype=string (created by layer 'qc_anat_rater_3')>), ('qc_anat_notes_rater_3', <KerasTensor: shape=(None, 1) dtype=string (created by layer 'qc_anat_notes_rater_3')>), ('qc_func_rater_3', <KerasTensor: shape=(None, 1) dtype=string (created by layer 'qc_func_rater_3')>), ('qc_func_notes_rater_3', <KerasTensor: shape=(None, 1) dtype=string (created by layer 'qc_func_notes_rater_3')>), ('SUB_IN_SMP', <KerasTensor: shape=(None, 1) dtype=float32 (created by layer 'SUB_IN_SMP')>)])\n"
          ]
        },
        {
          "output_type": "error",
          "ename": "ValueError",
          "evalue": "ignored",
          "traceback": [
            "\u001b[0;31m---------------------------------------------------------------------------\u001b[0m",
            "\u001b[0;31mValueError\u001b[0m                                Traceback (most recent call last)",
            "\u001b[0;32m<ipython-input-160-4c6b6edc1f54>\u001b[0m in \u001b[0;36m<module>\u001b[0;34m\u001b[0m\n\u001b[1;32m    100\u001b[0m \u001b[0mmodel\u001b[0m \u001b[0;34m=\u001b[0m \u001b[0mmodel\u001b[0m\u001b[0;34m(\u001b[0m\u001b[0mpreprocessing\u001b[0m\u001b[0;34m,\u001b[0m \u001b[0minputs\u001b[0m\u001b[0;34m)\u001b[0m\u001b[0;34m\u001b[0m\u001b[0;34m\u001b[0m\u001b[0m\n\u001b[1;32m    101\u001b[0m \u001b[0;34m\u001b[0m\u001b[0m\n\u001b[0;32m--> 102\u001b[0;31m \u001b[0mmodel\u001b[0m\u001b[0;34m.\u001b[0m\u001b[0mfit\u001b[0m\u001b[0;34m(\u001b[0m\u001b[0mx\u001b[0m\u001b[0;34m=\u001b[0m\u001b[0mfeatures_dict\u001b[0m\u001b[0;34m,\u001b[0m \u001b[0my\u001b[0m\u001b[0;34m=\u001b[0m\u001b[0mlabels\u001b[0m\u001b[0;34m,\u001b[0m \u001b[0mepochs\u001b[0m\u001b[0;34m=\u001b[0m\u001b[0;36m10\u001b[0m\u001b[0;34m)\u001b[0m\u001b[0;34m\u001b[0m\u001b[0;34m\u001b[0m\u001b[0m\n\u001b[0m\u001b[1;32m    103\u001b[0m \u001b[0;34m\u001b[0m\u001b[0m\n",
            "\u001b[0;32m/usr/local/lib/python3.8/dist-packages/keras/utils/traceback_utils.py\u001b[0m in \u001b[0;36merror_handler\u001b[0;34m(*args, **kwargs)\u001b[0m\n\u001b[1;32m     68\u001b[0m             \u001b[0;31m# To get the full stack trace, call:\u001b[0m\u001b[0;34m\u001b[0m\u001b[0;34m\u001b[0m\u001b[0;34m\u001b[0m\u001b[0m\n\u001b[1;32m     69\u001b[0m             \u001b[0;31m# `tf.debugging.disable_traceback_filtering()`\u001b[0m\u001b[0;34m\u001b[0m\u001b[0;34m\u001b[0m\u001b[0;34m\u001b[0m\u001b[0m\n\u001b[0;32m---> 70\u001b[0;31m             \u001b[0;32mraise\u001b[0m \u001b[0me\u001b[0m\u001b[0;34m.\u001b[0m\u001b[0mwith_traceback\u001b[0m\u001b[0;34m(\u001b[0m\u001b[0mfiltered_tb\u001b[0m\u001b[0;34m)\u001b[0m \u001b[0;32mfrom\u001b[0m \u001b[0;32mNone\u001b[0m\u001b[0;34m\u001b[0m\u001b[0;34m\u001b[0m\u001b[0m\n\u001b[0m\u001b[1;32m     71\u001b[0m         \u001b[0;32mfinally\u001b[0m\u001b[0;34m:\u001b[0m\u001b[0;34m\u001b[0m\u001b[0;34m\u001b[0m\u001b[0m\n\u001b[1;32m     72\u001b[0m             \u001b[0;32mdel\u001b[0m \u001b[0mfiltered_tb\u001b[0m\u001b[0;34m\u001b[0m\u001b[0;34m\u001b[0m\u001b[0m\n",
            "\u001b[0;32m/usr/local/lib/python3.8/dist-packages/keras/engine/data_adapter.py\u001b[0m in \u001b[0;36m_check_data_cardinality\u001b[0;34m(data)\u001b[0m\n\u001b[1;32m   1846\u001b[0m             )\n\u001b[1;32m   1847\u001b[0m         \u001b[0mmsg\u001b[0m \u001b[0;34m+=\u001b[0m \u001b[0;34m\"Make sure all arrays contain the same number of samples.\"\u001b[0m\u001b[0;34m\u001b[0m\u001b[0;34m\u001b[0m\u001b[0m\n\u001b[0;32m-> 1848\u001b[0;31m         \u001b[0;32mraise\u001b[0m \u001b[0mValueError\u001b[0m\u001b[0;34m(\u001b[0m\u001b[0mmsg\u001b[0m\u001b[0;34m)\u001b[0m\u001b[0;34m\u001b[0m\u001b[0;34m\u001b[0m\u001b[0m\n\u001b[0m\u001b[1;32m   1849\u001b[0m \u001b[0;34m\u001b[0m\u001b[0m\n\u001b[1;32m   1850\u001b[0m \u001b[0;34m\u001b[0m\u001b[0m\n",
            "\u001b[0;31mValueError\u001b[0m: Data cardinality is ambiguous:\n  x sizes: 1, 1, 1, 1, 1, 1, 1, 1, 1, 1, 1, 1, 1, 1, 1, 1, 1, 1, 1, 1, 1, 1, 1, 1, 1, 1, 1, 1, 1, 1, 1, 1, 1, 1, 1, 1, 1, 1, 1, 1, 1, 1, 1, 1, 1, 1, 1, 1, 1, 1, 1, 1, 1, 1, 1, 1, 1, 1, 1, 1, 1, 1, 1, 1, 1, 1, 1, 1, 1, 1, 1, 1, 1, 1, 1, 1, 1, 1, 1, 1, 1, 1, 1, 1, 1, 1, 1, 1, 1, 1, 1, 1, 1, 1, 1, 1, 1, 1, 1, 1, 1, 1, 1, 1, 1\n  y sizes: 1112\nMake sure all arrays contain the same number of samples."
          ]
        }
      ],
      "source": [
        "import numpy as np\n",
        "import tensorflow as tf\n",
        "import pandas as pd\n",
        "np.set_printoptions(precision=3, suppress=True)\n",
        "from tensorflow import keras\n",
        "from keras import layers\n",
        "from sklearn.model_selection import train_test_split\n",
        "\n",
        "train = pd.read_csv('/home/dataset/Phenotypic_V1_0b_preprocessed1.csv')\n",
        "\n",
        "train.head()\n",
        "\n",
        "features = train.copy()\n",
        "labels = features.pop('DX_GROUP')\n",
        "\n",
        "# Create a symbolic input\n",
        "input = tf.keras.Input(shape=(), dtype=tf.float32)\n",
        "\n",
        "# Perform a calculation using the input\n",
        "result = 2*input + 1\n",
        "\n",
        "# the result doesn't have a value\n",
        "result\n",
        "\n",
        "calc = tf.keras.Model(inputs=input, outputs=result)\n",
        "\n",
        "print(calc(1).numpy())\n",
        "print(calc(2).numpy())\n",
        "\n",
        "inputs = {}\n",
        "\n",
        "for name, column in features.items():\n",
        "  dtype = column.dtype\n",
        "  if dtype == object:\n",
        "    dtype = tf.string\n",
        "  else:\n",
        "    dtype = tf.float32\n",
        "\n",
        "  inputs[name] = tf.keras.Input(shape=(1,), name=name, dtype=dtype)\n",
        "\n",
        "inputs\n",
        "\n",
        "numeric_inputs = {name:input for name,input in inputs.items()\n",
        "                  if input.dtype==tf.float32}\n",
        "\n",
        "x = layers.Concatenate()(list(numeric_inputs.values()))\n",
        "norm = layers.Normalization()\n",
        "norm.adapt(np.array(train[numeric_inputs.keys()]))\n",
        "all_numeric_inputs = norm(x)\n",
        "\n",
        "all_numeric_inputs\n",
        "\n",
        "preprocessed_inputs = [all_numeric_inputs]\n",
        "\n",
        "print(inputs.items())\n",
        "\n",
        "for name, input in inputs.items():\n",
        "  if input.dtype == tf.float32:\n",
        "    continue\n",
        "\n",
        "  # Convert the feature values to string type\n",
        "  feature_values = features[name].astype(str)\n",
        "\n",
        "  lookup = layers.StringLookup(vocabulary=np.unique(feature_values))\n",
        "  one_hot = layers.CategoryEncoding(num_tokens=lookup.vocabulary_size())\n",
        "\n",
        "  x = lookup(input)\n",
        "  x = one_hot(x)\n",
        "  preprocessed_inputs.append(x)\n",
        "\n",
        "preprocessed_inputs\n",
        "\n",
        "preprocessed_inputs_cat = layers.Concatenate()(preprocessed_inputs)\n",
        "\n",
        "preprocessing = tf.keras.Model(inputs, preprocessed_inputs_cat)\n",
        "\n",
        "tf.keras.utils.plot_model(model = preprocessing , rankdir=\"LR\", dpi=72, show_shapes=True)\n",
        "\n",
        "train_features_dict = {name: np.array(value) \n",
        "                         for name, value in features.items()}\n",
        "\n",
        "features_dict = {name: values[:1].astype(str) if dtype == object else values[:1] for name, values in train_features_dict.items() for dtype in [values.dtype]}\n",
        "\n",
        "preprocessing(features_dict)\n",
        "\n",
        "def model(preprocessing_head, inputs):\n",
        "  body = tf.keras.Sequential([\n",
        "    layers.Dense(64),\n",
        "    layers.Dense(1)\n",
        "  ])\n",
        "\n",
        "  preprocessed_inputs = preprocessing_head(inputs)\n",
        "  result = body(preprocessed_inputs)\n",
        "  model = tf.keras.Model(inputs, result)\n",
        "\n",
        "  model.compile(loss=tf.keras.losses.SparseCategoricalCrossentropy(from_logits=True),\n",
        "                optimizer=tf.keras.optimizers.Adam(learning_rate=0.001))\n",
        "  return model\n",
        "\n",
        "model = model(preprocessing, inputs)\n",
        "\n",
        "model.fit(x=features_dict, y=labels, epochs=10)\n",
        "\n"
      ]
    }
  ]
}